{
  "cells": [
    {
      "cell_type": "markdown",
      "source": [
        "# Libraries Import"
      ],
      "metadata": {
        "id": "9xHOod-tasQH"
      },
      "id": "9xHOod-tasQH"
    },
    {
      "metadata": {
        "ExecuteTime": {
          "end_time": "2025-04-22T07:52:57.160437Z",
          "start_time": "2025-04-22T07:52:54.726893Z"
        },
        "id": "56de42660f265c20"
      },
      "cell_type": "code",
      "source": [
        "import random\n",
        "from collections import Counter\n",
        "import matplotlib.pyplot as plt\n",
        "import numpy as np"
      ],
      "id": "56de42660f265c20",
      "outputs": [],
      "execution_count": 36
    },
    {
      "cell_type": "markdown",
      "source": [
        "# Preparation: Channel and Encoder/Decoder Setup"
      ],
      "metadata": {
        "id": "yVfiip3sawoE"
      },
      "id": "yVfiip3sawoE"
    },
    {
      "cell_type": "code",
      "source": [
        "# --- Hamming Code ---\n",
        "# Hamming (7,4) codewords\n",
        "Hamming_words = [\n",
        "    '0000000', '1000110', '0100101', '0010011',\n",
        "    '0001111', '1100011', '1010101', '1001001',\n",
        "    '0110110', '0101010', '0011100', '1110000',\n",
        "    '1101100', '1011010', '0111001', '1111111'\n",
        "]\n",
        "\n",
        "# Hamming distance between two binary strings\n",
        "def hamming_distance(a, b):\n",
        "    return sum(x != y for x, y in zip(a, b))\n",
        "\n",
        "\n",
        "# Bitwise complement of a binary string\n",
        "def bitwise_complement(word):\n",
        "    return ''.join('1' if b == '0' else '0' for b in word)\n",
        "\n",
        "# Generate all 3-bit messages\n",
        "def generate_messages():\n",
        "    return [format(i, '03b') for i in range(8)]\n",
        "\n",
        "# Generate all 7-bit binary strings (used for Task 1)\n",
        "def generate_all_7bit_words():\n",
        "    return [format(i, '07b') for i in range(128)]\n",
        "\n",
        "# --- Encoder --- for task 2\n",
        "# Get bin: codeword with prefix 0+u and its complement\n",
        "def get_bin(u):\n",
        "    prefix = '0' + u\n",
        "    for word in Hamming_words:\n",
        "        if word.startswith(prefix):\n",
        "            return [word, bitwise_complement(word)]\n",
        "    return []\n",
        "\n",
        "# Random binning encoder\n",
        "def random_binning_encoder(u):\n",
        "    return random.choice(get_bin(u))\n",
        "\n",
        "# --- Channels ---\n",
        "# Eavesdropper channel (flips up to 3 bits)\n",
        "def eavesdropper_channel(x):\n",
        "    x = list(x)\n",
        "    for i in random.sample(range(7), random.randint(0, 3)):\n",
        "        x[i] = '1' if x[i] == '0' else '0'\n",
        "    return ''.join(x)\n",
        "\n",
        "# Legitimate channel (flips 1 bit)\n",
        "def legitimate_channel(x):\n",
        "    x = list(x)\n",
        "    i = random.randint(0, 6)\n",
        "    x[i] = '1' if x[i] == '0' else '0'\n",
        "    return ''.join(x)\n",
        "\n",
        "# --- Decoder --- for task 3\n",
        "# Decoder function\n",
        "def decode(y):\n",
        "    closest = min(Hamming_words, key=lambda w: hamming_distance(y, w))\n",
        "    if closest[0] == '0':\n",
        "        return closest[1:4]\n",
        "    else:\n",
        "        return bitwise_complement(closest[1:4])"
      ],
      "metadata": {
        "id": "nuFem262-UAz"
      },
      "id": "nuFem262-UAz",
      "execution_count": 37,
      "outputs": []
    },
    {
      "cell_type": "markdown",
      "source": [
        "# Task 1\n",
        "\n",
        "Simulate Uniform Error Wiretap Channel"
      ],
      "metadata": {
        "id": "HLmDPEZo-bn6"
      },
      "id": "HLmDPEZo-bn6"
    },
    {
      "cell_type": "code",
      "source": [
        "def task1(x='1001000', trials=10000):\n",
        "    print(\"\\Simulate Uniform Error Wiretap Channel\")\n",
        "    y_samples = []\n",
        "    z_samples = []\n",
        "\n",
        "    # Generate sets of outputs within allowed Hamming distances\n",
        "    def Ty_given_x(a):\n",
        "        return [b for b in generate_all_7bit_words() if hamming_distance(a, b) <= 1]\n",
        "\n",
        "    def Tz_given_x(a):\n",
        "        return [c for c in generate_all_7bit_words() if hamming_distance(a, c) <= 3]\n",
        "\n",
        "    Ty = Ty_given_x(x)\n",
        "    Tz = Tz_given_x(x)\n",
        "\n",
        "    # Sample from conditional distributions\n",
        "    for _ in range(trials):\n",
        "        y = random.choice(Ty)\n",
        "        z = random.choice(Tz)\n",
        "        y_samples.append(y)\n",
        "        z_samples.append(z)\n",
        "\n",
        "    # Empirical mutual information I(Y;Z|X)\n",
        "    joint_counts = Counter(zip(y_samples, z_samples))\n",
        "    y_counts = Counter(y_samples)\n",
        "    z_counts = Counter(z_samples)\n",
        "\n",
        "    mi = 0.0\n",
        "    for (y, z), count in joint_counts.items():\n",
        "        p_yz = count / trials\n",
        "        p_y = y_counts[y] / trials\n",
        "        p_z = z_counts[z] / trials\n",
        "        mi += p_yz * np.log2(p_yz / (p_y * p_z))\n",
        "\n",
        "    print(f\"Estimated mutual information I(Y; Z | X = {x}) = {mi:.6f} bits\")\n",
        "\n",
        "    # Plot distribution\n",
        "    def plot_bar(counter, label):\n",
        "        probs = {k: v / trials for k, v in counter.items()}\n",
        "        plt.figure(figsize=(10, 3))\n",
        "        plt.bar(range(len(probs)), list(probs.values()))\n",
        "        plt.title(f\"Empirical Distribution of {label}\")\n",
        "        plt.xlabel(label)\n",
        "        plt.ylabel(\"Probability\")\n",
        "        plt.xticks(range(len(probs)), list(probs.keys()), rotation=90)\n",
        "        plt.tight_layout()\n",
        "        plt.show()\n",
        "\n",
        "    plot_bar(y_counts, \"Y\")\n",
        "    plot_bar(z_counts, \"Z\")\n",
        "\n",
        "task1()"
      ],
      "metadata": {
        "colab": {
          "base_uri": "https://localhost:8080/",
          "height": 651
        },
        "id": "vGS5CIQA-fIu",
        "outputId": "4d19c82c-9258-44a3-e067-a827257278ca"
      },
      "id": "vGS5CIQA-fIu",
      "execution_count": 38,
      "outputs": [
        {
          "output_type": "stream",
          "name": "stdout",
          "text": [
            "\n",
            "--- Task 1: Simulate Uniform Error Wiretap Channel ---\n",
            "Estimated mutual information I(Y; Z | X = 1001000) = 0.034501 bits\n"
          ]
        },
        {
          "output_type": "display_data",
          "data": {
            "text/plain": [
              "<Figure size 1000x300 with 1 Axes>"
            ],
            "image/png": "[encoded data removed]"
          },
          "metadata": {}
        },
        {
          "output_type": "display_data",
          "data": {
            "text/plain": [
              "<Figure size 1000x300 with 1 Axes>"
            ],
            "image/png": "[encoded data removed]"
          },
          "metadata": {}
        }
      ]
    },
    {
      "cell_type": "markdown",
      "source": [
        "# Task 2\n",
        "\n",
        "Random binding encoder"
      ],
      "metadata": {
        "id": "_bG5RpeZanKd"
      },
      "id": "_bG5RpeZanKd"
    },
    {
      "cell_type": "code",
      "source": [
        "def task2():\n",
        "    for u in generate_messages():\n",
        "        x = random_binning_encoder(u)\n",
        "        print(f\"u = {u} then x = {x}\")\n",
        "\n",
        "task2()"
      ],
      "metadata": {
        "colab": {
          "base_uri": "https://localhost:8080/"
        },
        "id": "RsM7EHhC-roV",
        "outputId": "9c2deeec-bbad-4e2a-8ef6-764632968090"
      },
      "id": "RsM7EHhC-roV",
      "execution_count": 39,
      "outputs": [
        {
          "output_type": "stream",
          "name": "stdout",
          "text": [
            "u = 000 then x = 1111111\n",
            "u = 001 then x = 1110000\n",
            "u = 010 then x = 0010011\n",
            "u = 011 then x = 0011100\n",
            "u = 100 then x = 0100101\n",
            "u = 101 then x = 1010101\n",
            "u = 110 then x = 0110110\n",
            "u = 111 then x = 1000110\n"
          ]
        }
      ]
    },
    {
      "cell_type": "markdown",
      "source": [
        "# Task 3\n",
        "\n",
        "DECODING"
      ],
      "metadata": {
        "id": "-E1RoMVpa4F1"
      },
      "id": "-E1RoMVpa4F1"
    },
    {
      "cell_type": "code",
      "source": [
        "def task3():\n",
        "    print(\"Test without noise:\")\n",
        "    for u in generate_messages():\n",
        "        x = random_binning_encoder(u)\n",
        "        u_hat = decode(x)\n",
        "        print(f\"u = {u} then x = {x} |after| u_hat = {u_hat} {'OK' if u == u_hat else 'FAIL'}\")\n",
        "\n",
        "    print(\"\\nTest with 1-bit error:\")\n",
        "    for u in generate_messages():\n",
        "        x = random_binning_encoder(u)\n",
        "        y = legitimate_channel(x)\n",
        "        u_hat = decode(y)\n",
        "        print(f\"u = {u} then x = {x} |after| y = {y} |and again| u_hat = {u_hat} {'OK' if u == u_hat else 'FAIL'}\")\n",
        "\n",
        "task3()"
      ],
      "metadata": {
        "colab": {
          "base_uri": "https://localhost:8080/"
        },
        "id": "0qLwOXRma3fU",
        "outputId": "398fe434-7bac-4ad5-e703-71ec8d993394"
      },
      "id": "0qLwOXRma3fU",
      "execution_count": 40,
      "outputs": [
        {
          "output_type": "stream",
          "name": "stdout",
          "text": [
            "Test without noise:\n",
            "u = 000 then x = 0000000 |after| u_hat = 000 OK\n",
            "u = 001 then x = 0001111 |after| u_hat = 001 OK\n",
            "u = 010 then x = 1101100 |after| u_hat = 010 OK\n",
            "u = 011 then x = 1100011 |after| u_hat = 011 OK\n",
            "u = 100 then x = 0100101 |after| u_hat = 100 OK\n",
            "u = 101 then x = 1010101 |after| u_hat = 101 OK\n",
            "u = 110 then x = 1001001 |after| u_hat = 110 OK\n",
            "u = 111 then x = 0111001 |after| u_hat = 111 OK\n",
            "\n",
            "Test with 1-bit error:\n",
            "u = 000 then x = 0000000 |after| y = 0010000 |and again| u_hat = 000 OK\n",
            "u = 001 then x = 1110000 |after| y = 1110100 |and again| u_hat = 001 OK\n",
            "u = 010 then x = 1101100 |after| y = 1001100 |and again| u_hat = 010 OK\n",
            "u = 011 then x = 1100011 |after| y = 1100001 |and again| u_hat = 011 OK\n",
            "u = 100 then x = 1011010 |after| y = 1011011 |and again| u_hat = 100 OK\n",
            "u = 101 then x = 0101010 |after| y = 0001010 |and again| u_hat = 101 OK\n",
            "u = 110 then x = 0110110 |after| y = 0010110 |and again| u_hat = 110 OK\n",
            "u = 111 then x = 1000110 |after| y = 1000010 |and again| u_hat = 111 OK\n"
          ]
        }
      ]
    },
    {
      "cell_type": "markdown",
      "source": [
        "# Task 4\n",
        "\n",
        "Verify perfect secrecy\n",
        "\n",
        "(spoiler: it's far from perfect)"
      ],
      "metadata": {
        "id": "WMC3O6oCbLmB"
      },
      "id": "WMC3O6oCbLmB"
    },
    {
      "cell_type": "code",
      "source": [
        "def task4():\n",
        "    joint = Counter()\n",
        "    total = 0\n",
        "    for u in generate_messages():\n",
        "        for _ in range(10000):\n",
        "            x = random_binning_encoder(u)\n",
        "            z = eavesdropper_channel(x)\n",
        "            joint[(u, z)] += 1\n",
        "            total += 1\n",
        "\n",
        "# Compute empirical p(u), p(z), and p(u,z)\n",
        "    p_u = {u: 1/8 for u in generate_messages()}\n",
        "    p_z = {}\n",
        "    for (_, z) in joint:\n",
        "        p_z[z] = sum(joint[(u, z)] for u in generate_messages()) / total\n",
        "\n",
        "# Estimate mutual information I(U;Z)\n",
        "    mi = 0\n",
        "    for (u, z), count in joint.items():\n",
        "        p_uz = count / total\n",
        "        mi += p_uz * np.log2(p_uz / (p_u[u] * p_z[z]))\n",
        "\n",
        "    print(f\"I(U;Z) = {mi:.6f} bits\")\n",
        "\n",
        "task4()"
      ],
      "metadata": {
        "colab": {
          "base_uri": "https://localhost:8080/"
        },
        "id": "8OUXYPDXbK9X",
        "outputId": "676a5516-934c-4c67-8aba-dd2044bacdd4"
      },
      "id": "8OUXYPDXbK9X",
      "execution_count": 41,
      "outputs": [
        {
          "output_type": "stream",
          "name": "stdout",
          "text": [
            "I(U;Z) = 0.768051 bits\n"
          ]
        }
      ]
    },
    {
      "cell_type": "markdown",
      "source": [
        "# Task 5\n",
        "\n",
        "Simulating the wiretap BSC channel"
      ],
      "metadata": {
        "id": "UtBZ5thJiQ3z"
      },
      "id": "UtBZ5thJiQ3z"
    },
    {
      "cell_type": "code",
      "source": [
        "class BSC:\n",
        "    def __init__(self, epsilon=0.0, delta=0.0):\n",
        "        self.epsilon = epsilon  # Error rate for Bob (legitimate)\n",
        "        self.delta = delta      # Error rate for Eve (eavesdropper)\n",
        "\n",
        "    def flip_bits(self, x, error_rate):\n",
        "        # flips each bit in x with probability error_rate\n",
        "        return ''.join(\n",
        "            bit if random.random() > error_rate else ('0' if bit == '1' else '1')\n",
        "            for bit in x\n",
        "        )\n",
        "\n",
        "    def transmit(self, x):\n",
        "        y = self.flip_bits(x, self.epsilon)  # received by Bob\n",
        "        z = self.flip_bits(x, self.delta)    # received by Eve\n",
        "        return y, z\n",
        "\n",
        "def task5(epsilon=0.1, delta=0.3, trials=1000):\n",
        "    print(f\"Parameters: epsilon (Bob's error) = {epsilon}, delta (Eve's error) = {delta}\")\n",
        "\n",
        "    channel = BSC(epsilon, delta)\n",
        "    bit_errors_bob = 0\n",
        "    bit_errors_eve = 0\n",
        "\n",
        "    for _ in range(trials):\n",
        "        u = random.choice(generate_messages())  # choose a random 3-bit message\n",
        "        x = random_binning_encoder(u)           # encode it using binning\n",
        "        y, z = channel.transmit(x)              # transmit through the BSC\n",
        "\n",
        "        bit_errors_bob += hamming_distance(x, y)\n",
        "        bit_errors_eve += hamming_distance(x, z)\n",
        "\n",
        "    print(f\"Average bit errors (Bob): {bit_errors_bob / trials:.3f}\")\n",
        "    print(f\"Average bit errors (Eve): {bit_errors_eve / trials:.3f}\")\n",
        "\n",
        "task5()"
      ],
      "metadata": {
        "colab": {
          "base_uri": "https://localhost:8080/"
        },
        "id": "FejuZ__6iU2c",
        "outputId": "7a41e4e1-5caa-49c1-dc71-21a14ad9782c"
      },
      "id": "FejuZ__6iU2c",
      "execution_count": 42,
      "outputs": [
        {
          "output_type": "stream",
          "name": "stdout",
          "text": [
            "Parameters: epsilon (Bob's error) = 0.1, delta (Eve's error) = 0.3\n",
            "Average bit errors (Bob): 0.704\n",
            "Average bit errors (Eve): 2.127\n"
          ]
        }
      ]
    }
  ],
  "metadata": {
    "kernelspec": {
      "display_name": "Python 3",
      "language": "python",
      "name": "python3"
    },
    "language_info": {
      "codemirror_mode": {
        "name": "ipython",
        "version": 2
      },
      "file_extension": ".py",
      "mimetype": "text/x-python",
      "name": "python",
      "nbconvert_exporter": "python",
      "pygments_lexer": "ipython2",
      "version": "2.7.6"
    },
    "colab": {
      "provenance": []
    }
  },
  "nbformat": 4,
  "nbformat_minor": 5
}